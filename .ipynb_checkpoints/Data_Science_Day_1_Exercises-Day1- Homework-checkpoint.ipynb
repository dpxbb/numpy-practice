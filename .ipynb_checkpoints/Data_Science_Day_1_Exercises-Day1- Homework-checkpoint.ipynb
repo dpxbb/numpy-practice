{
 "cells": [
  {
   "cell_type": "markdown",
   "metadata": {},
   "source": [
    "# Exercises"
   ]
  },
  {
   "cell_type": "markdown",
   "metadata": {},
   "source": [
    "### #1 - Calculate the BMI (body mass index) on the two lists below using NDArrays..."
   ]
  },
  {
   "cell_type": "code",
   "execution_count": 3,
   "metadata": {},
   "outputs": [
    {
     "name": "stdout",
     "output_type": "stream",
     "text": [
      "[16.86620458 17.87755102 18.82562984 19.71450617 20.54794521 21.32943755\n",
      " 22.06222222]\n"
     ]
    }
   ],
   "source": [
    "import numpy as np\n",
    "# formula = weight / (height**2) * 730\n",
    "height = [69, 70, 71, 72, 73, 74, 75]\n",
    "weight = [110, 120, 130, 140, 150, 160, 170]\n",
    "\n",
    "# OUTPUT: [16.86620458 17.87755102 18.82562984 19.71450617 20.54794521 21.32943755\n",
    "# 22.06222222]\n",
    "\n",
    "arrH = np.array(height)\n",
    "arrW = np.array(weight)\n",
    "\n",
    "print(arrW/arrH**2 * 730)"
   ]
  },
  {
   "cell_type": "markdown",
   "metadata": {},
   "source": [
    "### #2 - Create a function that will take in two parameters and will create a random matrix based off of those parameters. Extra: Have additional parameters taken in that allow the user to choose the shape and data type of the matrix."
   ]
  },
  {
   "cell_type": "code",
   "execution_count": null,
   "metadata": {},
   "outputs": [],
   "source": [
    "\"\"\"\n",
    "Example Result\n",
    "array([[14.21633515,  7.98846653,  9.64140715],\n",
    "       [ 6.30982234,  9.96414331,  8.43153688],\n",
    "       [14.73102068, 11.76072894, 14.23356121]])\n",
    "\"\"\"\n",
    "def makeMatrix(shape,data_type = float):\n",
    "    shape = % np.random.uniform()\n",
    "\n"
   ]
  },
  {
   "cell_type": "markdown",
   "metadata": {},
   "source": [
    "### #3 - Extra: Open and load the data in the two text files that have the Boston Red Sox hitting data for the past seasons. Compare the difference in the two years by putting the data into an NDArray and running a differencial operation on it. The column to look for will be SLG.\n",
    "\n",
    "Your output should display which year (either 2017 or 2018) was a better year based on SLG"
   ]
  },
  {
   "cell_type": "code",
   "execution_count": 2,
   "metadata": {},
   "outputs": [
    {
     "name": "stdout",
     "output_type": "stream",
     "text": [
      "[['Rk', 'Pos', 'Name', 'Age', 'G', 'PA', 'AB', 'R', 'H', '2B', '3B', 'HR', 'RBI', 'SB', 'CS', 'BB', 'SO', 'BA', 'OBP', 'SLG', 'OPS', 'OPS+', 'TB', 'GDP', 'HBP', 'SH', 'SF', 'IBB'], ['1', 'C', 'Sandy Leon', '29', '89', '288', '265', '30', '47', '12', '0', '5', '22', '1', '0', '15', '75', '.177', '.232', '.279', '.511', '37', '74', '6', '4', '3', '1', '0'], ['2', '1B', 'Mitch Moreland', '32', '124', '459', '404', '57', '99', '23', '4', '15', '68', '2', '0', '50', '102', '.245', '.325', '.433', '.758', '102', '175', '12', '0', '0', '5', '2'], ['3', '2B', 'Eduardo Nunez', '31', '127', '502', '480', '56', '127', '23', '3', '10', '44', '7', '2', '16', '69', '.265', '.289', '.388', '.677', '81', '186', '17', '2', '1', '3', '0'], ['4', 'SS', 'Xander Bogaerts', '25', '136', '580', '513', '72', '148', '45', '3', '23', '103', '8', '2', '55', '102', '.288', '.360', '.522', '.883', '135', '268', '14', '6', '0', '6', '4'], ['5', '3B', 'Rafael Devers', '21', '121', '490', '450', '59', '108', '24', '0', '21', '66', '5', '2', '38', '121', '.240', '.298', '.433', '.731', '94', '195', '9', '0', '0', '2', '6'], ['6', 'LF', 'Andrew Benintendi', '23', '148', '661', '579', '103', '168', '41', '6', '16', '87', '21', '3', '71', '106', '.290', '.366', '.465', '.830', '123', '269', '9', '2', '2', '7', '1'], ['7', 'CF', 'Jackie Bradley Jr.', '28', '144', '535', '474', '76', '111', '33', '4', '13', '59', '17', '1', '46', '137', '.234', '.314', '.403', '.717', '92', '191', '6', '11', '0', '4', '3'], ['8', 'RF', 'Mookie Betts', '25', '136', '614', '520', '129', '180', '47', '5', '32', '80', '30', '6', '81', '91', '.346', '.438', '.640', '1.078', '186', '333', '5', '8', '0', '5', '8'], ['9', 'DH', 'J.D. Martinez', '30', '150', '649', '569', '111', '188', '37', '2', '43', '130', '6', '1', '69', '146', '.330', '.402', '.629', '1.031', '173', '358', '19', '4', '0', '7', '11'], ['10', 'MI', 'Brock Holt', '30', '109', '367', '321', '41', '89', '18', '2', '7', '46', '7', '7', '37', '73', '.277', '.362', '.411', '.774', '109', '132', '7', '7', '0', '2', '2'], ['11', 'C', 'Christian Vazquez', '27', '80', '269', '251', '24', '52', '10', '0', '3', '16', '4', '1', '13', '41', '.207', '.257', '.283', '.540', '46', '71', '5', '4', '1', '0', '1'], ['12', 'UT', 'Blake Swihart', '26', '82', '207', '192', '28', '44', '10', '0', '3', '18', '6', '1', '15', '57', '.229', '.285', '.328', '.613', '65', '63', '4', '0', '0', '0', '0'], ['13', 'UT', 'Hanley Ramirez', '34', '44', '195', '177', '25', '45', '7', '0', '6', '29', '4', '1', '14', '35', '.254', '.313', '.395', '.708', '90', '70', '9', '2', '0', '2', '0'], ['14', '1B', 'Steve Pearce', '35', '50', '165', '136', '19', '38', '8', '1', '7', '26', '0', '0', '22', '27', '.279', '.394', '.507', '.901', '141', '69', '1', '5', '0', '2', '0'], ['15', '2B', 'Ian Kinsler', '36', '37', '143', '132', '17', '32', '6', '0', '1', '16', '7', '3', '10', '24', '.242', '.294', '.311', '.604', '64', '41', '5', '0', '0', '1', '0'], ['16', 'SS', 'Tzu-Wei Lin', '24', '37', '73', '65', '15', '16', '6', '1', '1', '6', '0', '1', '8', '17', '.246', '.329', '.415', '.744', '100', '27', '0', '0', '0', '0', '0'], ['17', 'UT', 'Sam Travis', '24', '19', '38', '36', '5', '8', '3', '0', '1', '7', '0', '0', '2', '10', '.222', '.263', '.389', '.652', '73', '14', '1', '0', '0', '0', '0'], ['18', 'UT', 'Brandon Phillips', '37', '9', '27', '23', '4', '3', '0', '0', '1', '2', '0', '0', '4', '7', '.130', '.259', '.261', '.520', '42', '6', '1', '0', '0', '0', '0'], ['19', '2B', 'Dustin Pedroia', '34', '3', '13', '11', '1', '1', '0', '0', '0', '0', '0', '0', '2', '1', '.091', '.231', '.091', '.322', '-7', '1', '0', '0', '0', '0', '0'], ['20', 'C', 'Dan Butler', '31', '2', '7', '6', '0', '1', '0', '0', '0', '1', '0', '0', '0', '2', '.167', '.143', '.167', '.310', '-17', '1', '0', '0', '0', '1', '0']]\n"
     ]
    }
   ],
   "source": [
    "import csv\n",
    "import numpy as np\n",
    "\n",
    "#Test to make sure you have the correct data\n",
    "def open_csv(filename,d = \",\"):\n",
    "    data = []\n",
    "    # open our data file and read the contents inside\n",
    "    with open(filename, encoding = 'utf-8') as mData: \n",
    "        info = csv.reader(mData, delimiter = d)\n",
    "        \n",
    "        # loop over info and append data to the empty list\n",
    "        for row in info: \n",
    "            data.append(row)\n",
    "    return data\n",
    "\n",
    "rs2018 = open_csv('../files/redsox_2018_hitting.txt')\n",
    "print(rs2018)"
   ]
  },
  {
   "cell_type": "code",
   "execution_count": 6,
   "metadata": {},
   "outputs": [
    {
     "name": "stdout",
     "output_type": "stream",
     "text": [
      "[0.279 0.433 0.388 0.522 0.433 0.465 0.403 0.64  0.629 0.411 0.283 0.328\n",
      " 0.395 0.507 0.311 0.415 0.389 0.261 0.091 0.167]\n"
     ]
    }
   ],
   "source": [
    "\"\"\"\n",
    "Example Result - Not the actual result\n",
    "Boston 18 had more SLG in 2018\n",
    "[0.404 0.443 0.392 0.403 0.482 0.424 0.402 0.459 0.429 0.354 0.387 0.333\n",
    " 0.539 0.243 0.262 0.354 0.342 0.339 0.328 0.306 0.222 0.2   1.   ]\n",
    "\"\"\"\n",
    "\n",
    "FIELDS = ['Rk', 'Pos', 'Name', 'Age', 'G', 'PA', 'AB', 'R', 'H', '2B', '3B', 'HR', 'RBI', 'SB', 'CS', \n",
    "          'BB', 'SO', 'BA', 'OBP', 'SLG', 'OPS', 'OPS+', 'TB', 'GDP', 'HBP', 'SH', 'SF', 'IBB']\n",
    "\n",
    "DATATYPES = [('rk', 'i'), ('pos', '|S25'), ('name', '|S25'), ('age', 'i'), ('g', 'i'), ('pa', 'i'), ('ab', 'i'),\n",
    "                ('r', 'i'), ('h', 'i'), ('2b', 'i'), ('3b', 'i'), ('hr', 'i'), ('rbi', 'i'), ('sb', 'i'), ('cs', 'i'),\n",
    "                ('bb', 'i'), ('so', 'i'), ('ba', 'f'), ('obp', 'f'), ('slg', 'f'), ('ops', 'f'), ('opsp', 'i'),\n",
    "                ('tb', 'i'), ('gdp', 'i'), ('hbp', 'i'), ('sh', 'i'), ('sf', 'i'), ('ibb', 'i')]\n",
    "\n",
    "def load_data(filename, d = ','):\n",
    "    data = np.genfromtxt(filename, delimiter = d, skip_header = 1, usecols = np.arange(0,24), invalid_raise = False,\n",
    "                         names = FIELDS, dtype = DATATYPES)\n",
    "    return data\n",
    "\n",
    "bs2017 = load_data('../files/redsox_2017_hitting.txt')\n",
    "bs2018 = load_data('../files/redsox_2018_hitting.txt')\n",
    "\n",
    "# Extra: Open and load the data in the two text files that have the \n",
    "# Boston Red Sox hitting data for the past seasons. Compare the difference \n",
    "# in the two years by putting the data into an NDArray and running a \n",
    "# differencial operation on it. The column to look for will be SLG\n",
    "\n",
    "slg17 = bs2017['SLG']\n",
    "slg18 = bs2018['SLG']\n",
    "\n",
    "print(slg18)\n",
    "\n"
   ]
  }
 ],
 "metadata": {
  "kernelspec": {
   "display_name": "Python 3",
   "language": "python",
   "name": "python3"
  },
  "language_info": {
   "codemirror_mode": {
    "name": "ipython",
    "version": 3
   },
   "file_extension": ".py",
   "mimetype": "text/x-python",
   "name": "python",
   "nbconvert_exporter": "python",
   "pygments_lexer": "ipython3",
   "version": "3.8.3"
  }
 },
 "nbformat": 4,
 "nbformat_minor": 2
}
